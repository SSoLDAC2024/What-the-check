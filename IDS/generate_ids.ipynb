{
 "cells": [
  {
   "cell_type": "markdown",
   "metadata": {},
   "source": [
    "# Generate IDS for rule checking"
   ]
  },
  {
   "cell_type": "markdown",
   "metadata": {},
   "source": [
    "## Prerequisites"
   ]
  },
  {
   "cell_type": "code",
   "execution_count": null,
   "metadata": {},
   "outputs": [
    {
     "name": "stdout",
     "output_type": "stream",
     "text": [
      "Requirement already satisfied: ifcopenshell in /Users/stefan/Repositories/FireBIM/SSolDAC2024/venv/lib/python3.12/site-packages (0.7.0.240521)\n",
      "Requirement already satisfied: ifctester in /Users/stefan/Repositories/FireBIM/SSolDAC2024/venv/lib/python3.12/site-packages (0.0.240518)\n",
      "Collecting pystache\n",
      "  Downloading pystache-0.6.5-py3-none-any.whl.metadata (14 kB)\n",
      "Requirement already satisfied: mathutils in /Users/stefan/Repositories/FireBIM/SSolDAC2024/venv/lib/python3.12/site-packages (from ifcopenshell) (3.3.0)\n",
      "Requirement already satisfied: shapely in /Users/stefan/Repositories/FireBIM/SSolDAC2024/venv/lib/python3.12/site-packages (from ifcopenshell) (2.0.4)\n",
      "Requirement already satisfied: numpy in /Users/stefan/Repositories/FireBIM/SSolDAC2024/venv/lib/python3.12/site-packages (from ifcopenshell) (1.26.4)\n",
      "Requirement already satisfied: isodate in /Users/stefan/Repositories/FireBIM/SSolDAC2024/venv/lib/python3.12/site-packages (from ifcopenshell) (0.6.1)\n",
      "Requirement already satisfied: python-dateutil in /Users/stefan/Repositories/FireBIM/SSolDAC2024/venv/lib/python3.12/site-packages (from ifcopenshell) (2.9.0.post0)\n",
      "Requirement already satisfied: lark in /Users/stefan/Repositories/FireBIM/SSolDAC2024/venv/lib/python3.12/site-packages (from ifcopenshell) (1.1.9)\n",
      "Requirement already satisfied: xmlschema in /Users/stefan/Repositories/FireBIM/SSolDAC2024/venv/lib/python3.12/site-packages (from ifctester) (3.3.1)\n",
      "Requirement already satisfied: six in /Users/stefan/Repositories/FireBIM/SSolDAC2024/venv/lib/python3.12/site-packages (from isodate->ifcopenshell) (1.16.0)\n",
      "Requirement already satisfied: elementpath<5.0.0,>=4.4.0 in /Users/stefan/Repositories/FireBIM/SSolDAC2024/venv/lib/python3.12/site-packages (from xmlschema->ifctester) (4.4.0)\n",
      "Downloading pystache-0.6.5-py3-none-any.whl (81 kB)\n",
      "\u001b[2K   \u001b[90m━━━━━━━━━━━━━━━━━━━━━━━━━━━━━━━━━━━━━━━━\u001b[0m \u001b[32m81.3/81.3 kB\u001b[0m \u001b[31m2.7 MB/s\u001b[0m eta \u001b[36m0:00:00\u001b[0m\n",
      "\u001b[?25hInstalling collected packages: pystache\n",
      "Successfully installed pystache-0.6.5\n"
     ]
    }
   ],
   "source": [
    "%pip install ifcopenshell ifctester pystache"
   ]
  },
  {
   "cell_type": "markdown",
   "metadata": {},
   "source": [
    "## Create IDS file using the python tools from ifcopenshell"
   ]
  },
  {
   "cell_type": "code",
   "execution_count": 6,
   "metadata": {},
   "outputs": [],
   "source": [
    "import ifcopenshell\n",
    "from ifctester import ids, reporter\n",
    "\n",
    "#--------------------------------------------------\n",
    "# create an IDS (0.9.7) or (1.0?)\n",
    "#--------------------------------------------------\n",
    "my_ids = ids.Ids(title=\"Accessibility Data verification\",\n",
    "                 purpose=\"Checking the Flemish accessibility regulation\")\n",
    "\n",
    "# ----------------------------------------\n",
    "# # Add a specification to the stairs\n",
    "my_spec = ids.Specification(\n",
    "    name=\"Stairs may not be too steep\",\n",
    "    identifier=\"VTV Art.20 §2+§3\",\n",
    "    ifcVersion=\"IFC2X3\")\n",
    "my_spec.applicability.append(ids.Entity(name=\"IFCSTAIR\"))\n",
    "\n",
    "restriction = ids.Restriction(\n",
    "    options={\"maxInclusive\": 17},\n",
    "    base=\"integer\")\n",
    "property = ids.Property(\n",
    "    propertySet=\"Pset_StairCommon\",\n",
    "    baseName=\"NumberOfRiser\",\n",
    "    cardinality=\"required\",\n",
    "    dataType=\"IfcCountMeasure\",\n",
    "    instructions=\"Art.20§2 The amount of risers can be at most 17\",\n",
    "    value=restriction\n",
    ")\n",
    "my_spec.requirements.append(property)\n",
    "\n",
    "restriction = ids.Restriction(\n",
    "    options={\"maxInclusive\": 0.18},\n",
    "    base=\"length\")\n",
    "property = ids.Property(\n",
    "    propertySet=\"Pset_StairCommon\",\n",
    "    baseName=\"RiserHeight\",\n",
    "    cardinality=\"required\",\n",
    "    dataType=\"IfcPositiveLengthMeasure\",\n",
    "    instructions=\"Art.20§3 Riser Height should be at most 18cm\",\n",
    "    value=restriction\n",
    ")\n",
    "my_spec.requirements.append(property)\n",
    "\n",
    "restriction = ids.Restriction(\n",
    "    options={\"minInclusive\": 0.23},\n",
    "    base=\"length\")\n",
    "property = ids.Property(\n",
    "    propertySet=\"Pset_StairCommon\",\n",
    "    baseName=\"TreadLength\",\n",
    "    cardinality=\"required\",\n",
    "    dataType=\"IfcPositiveLengthMeasure\",\n",
    "    instructions=\"Art.20§3 Tread Length should be at least 23cm\",\n",
    "    value=restriction\n",
    ")\n",
    "my_spec.requirements.append(property)\n",
    "\n",
    "my_ids.specifications.append(my_spec)\n",
    "\n",
    "# ----------------------------------------\n",
    "# DOORS\n",
    "my_spec = ids.Specification(\n",
    "    name=\"Each door should have a height of at least 2.09m.\",\n",
    "    identifier=\"VTV Art.22 §1\",\n",
    "    ifcVersion=\"IFC2X3\")\n",
    "my_spec.applicability.append(ids.Entity(name=\"IFCDOOR\"))\n",
    "restriction = ids.Restriction(\n",
    "    options={\"minInclusive\": 2090}, # mm\n",
    "    base=\"length\")\n",
    "attribute = ids.Attribute(\n",
    "    name=\"OverallHeight\",\n",
    "    cardinality=\"required\",\n",
    "    instructions=\"Art.22§1 Doors should be at least 2.09m high.\",\n",
    "    value=restriction\n",
    ")\n",
    "my_spec.requirements.append(attribute)\n",
    "my_ids.specifications.append(my_spec)\n",
    "\n",
    "\n",
    "my_spec = ids.Specification(\n",
    "    name=\"Each door should have a width of at least 1.05m.\",\n",
    "    identifier=\"VTV Art.22 §2\",\n",
    "    ifcVersion=\"IFC2X3\")\n",
    "my_spec.applicability.append(ids.Entity(name=\"IFCDOOR\"))\n",
    "restriction = ids.Restriction(\n",
    "    options={\"minInclusive\": 1050}, # 1050 mm\n",
    "    base=\"length\")\n",
    "attribute = ids.Attribute(\n",
    "    name=\"OverallWidth\",\n",
    "    cardinality=\"required\",\n",
    "    instructions=\"Art.22§2 Doors should be at least 1.05m wide.\",\n",
    "    value=restriction\n",
    ")\n",
    "my_spec.requirements.append(attribute)\n",
    "my_ids.specifications.append(my_spec)\n",
    "\n",
    "# ----------------------------------------\n",
    "# save to file\n",
    "result = my_ids.to_xml(\"VTV_accessibility.ids\")"
   ]
  },
  {
   "cell_type": "markdown",
   "metadata": {},
   "source": [
    "## Test the IFC file"
   ]
  },
  {
   "cell_type": "code",
   "execution_count": 7,
   "metadata": {},
   "outputs": [
    {
     "name": "stdout",
     "output_type": "stream",
     "text": [
      "\u001b[;1m\u001b[1;34mAccessibility Data verification\n",
      "\u001b[;1m\u001b[1;31m[FAIL] \u001b[;1m(2/3) Stairs may not be too steep\n",
      "\u001b[1;36m    Applies to:\n",
      "\u001b[0;0m        All IFCSTAIR data\n",
      "\u001b[1;36m    Requirements:\n",
      "\u001b[0;0m\u001b[0;0m\u001b[1;31m        NumberOfRiser data shall be {'maxInclusive': 17} and in the dataset Pset_StairCommon\n",
      "\u001b[0;0m            \u001b[0;0mThe property value \u001b[0;95m18.0\u001b[0;0m does not match the requirements\u001b[0;90m - #8870=IfcStair('1qnuHei2H9IuA8Q46m1Dkm',#18,'Precast Stair:Stair:383689',$,'Precast Stair:Precast Stair',#8869,$,'383689',.HALF_TURN_STAIR.)\n",
      "\u001b[0;0m\u001b[0;0m\u001b[0;32m        RiserHeight data shall be {'maxInclusive': 0.18} and in the dataset Pset_StairCommon\n",
      "\u001b[0;0m\u001b[0;0m\u001b[0;32m        TreadLength data shall be {'minInclusive': 0.23} and in the dataset Pset_StairCommon\n",
      "\u001b[0;0m\u001b[0;0m\u001b[;1m\u001b[1;31m[FAIL] \u001b[;1m(11/18) Each door should have a height of at least 2.09m.\n",
      "\u001b[1;36m    Applies to:\n",
      "\u001b[0;0m        All IFCDOOR data\n",
      "\u001b[1;36m    Requirements:\n",
      "\u001b[0;0m\u001b[0;0m\u001b[1;31m        The OverallHeight shall be {'minInclusive': 2090}\n",
      "\u001b[0;0m            \u001b[0;0mThe attribute value \u001b[0;95m2031.9999999999993\u001b[0;0m does not match the requirement\u001b[0;90m - #13313=IfcDoor('2wcvH1AOD8fgqG2PBvpM7U',#18,'M_Single-Flush:0915 x 2032mm:398822',$,'M_Single-Flush:0915 x 2032mm',#24416,#13309,'398822',2031.9999999999993,914.99999999999989)\n",
      "\u001b[0;0m            \u001b[0;0mThe attribute value \u001b[0;95m2031.9999999999993\u001b[0;0m does not match the requirement\u001b[0;90m - #13367=IfcDoor('2wcvH1AOD8fgqG2PBvpM85',#18,'M_Single-Flush:0915 x 2032mm:398909',$,'M_Single-Flush:0915 x 2032mm',#24436,#13363,'398909',2031.9999999999993,914.99999999999989)\n",
      "\u001b[0;0m            \u001b[0;0mThe attribute value \u001b[0;95m2031.9999999999993\u001b[0;0m does not match the requirement\u001b[0;90m - #13395=IfcDoor('2wcvH1AOD8fgqG2PBvpMn$',#18,'M_Single-Flush:0915 x 2032mm:399431',$,'M_Single-Flush:0915 x 2032mm',#23930,#13391,'399431',2031.9999999999993,914.99999999999989)\n",
      "\u001b[0;0m            \u001b[0;0mThe attribute value \u001b[0;95m2031.9999999999993\u001b[0;0m does not match the requirement\u001b[0;90m - #13423=IfcDoor('2wcvH1AOD8fgqG2PBvpMor',#18,'M_Single-Flush:0915 x 2032mm:399501',$,'M_Single-Flush:0915 x 2032mm',#23950,#13419,'399501',2031.9999999999993,914.99999999999989)\n",
      "\u001b[0;0m            \u001b[0;0mThe attribute value \u001b[0;95m2031.9999999999993\u001b[0;0m does not match the requirement\u001b[0;90m - #13511=IfcDoor('2wcvH1AOD8fgqG2PBvpMqZ',#18,'M_Single-Flush:0915 x 2032mm:399643',$,'M_Single-Flush:0915 x 2032mm',#23850,#13507,'399643',2031.9999999999993,914.99999999999989)\n",
      "\u001b[0;0m            \u001b[0;0mThe attribute value \u001b[0;95m2031.9999999999993\u001b[0;0m does not match the requirement\u001b[0;90m - #13600=IfcDoor('2wcvH1AOD8fgqG2PBvpMuD',#18,'M_Single-Flush:0915 x 2032mm:399925',$,'M_Single-Flush:0915 x 2032mm',#23750,#13596,'399925',2031.9999999999993,914.99999999999966)\n",
      "\u001b[0;0m            \u001b[0;0mThe attribute value \u001b[0;95m2031.9999999999995\u001b[0;0m does not match the requirement\u001b[0;90m - #13689=IfcDoor('2wcvH1AOD8fgqG2PBvpMxf',#18,'M_Single-Flush:0915 x 2032mm:400081',$,'M_Single-Flush:0915 x 2032mm',#24396,#13685,'400081',2031.9999999999995,914.99999999999989)\n",
      "\u001b[0;0m\u001b[0;0m\u001b[;1m\u001b[1;31m[FAIL] \u001b[;1m(1/18) Each door should have a width of at least 1.05m.\n",
      "\u001b[1;36m    Applies to:\n",
      "\u001b[0;0m        All IFCDOOR data\n",
      "\u001b[1;36m    Requirements:\n",
      "\u001b[0;0m\u001b[0;0m\u001b[1;31m        The OverallWidth shall be {'minInclusive': 1050}\n",
      "\u001b[0;0m            \u001b[0;0mThe attribute value \u001b[0;95m914.9999999999999\u001b[0;0m does not match the requirement\u001b[0;90m - #5334=IfcDoor('2RvDSwe691wAJhcTMot35k',#18,'M_Single-Flush:0915 x 2134mm:358185',$,'M_Single-Flush:0915 x 2134mm',#23910,#5330,'358185',2134.,914.99999999999989)\n",
      "\u001b[0;0m            \u001b[0;0mThe attribute value \u001b[0;95m914.9999999999999\u001b[0;0m does not match the requirement\u001b[0;90m - #5457=IfcDoor('2RvDSwe691wAJhcTMot3uN',#18,'M_Single-Flush:0915 x 2134mm:358480',$,'M_Single-Flush:0915 x 2134mm',#23870,#5453,'358480',2134.,914.99999999999989)\n",
      "\u001b[0;0m            \u001b[0;0mThe attribute value \u001b[0;95m915.0000000000003\u001b[0;0m does not match the requirement\u001b[0;90m - #5590=IfcDoor('2KmF_$QvDCf9UqoOSc8rqL',#18,'M_Single-Flush:0915 x 2134mm:359949',$,'M_Single-Flush:0915 x 2134mm',#23830,#5586,'359949',2134.,915.00000000000034)\n",
      "\u001b[0;0m            \u001b[0;0mThe attribute value \u001b[0;95m915.0000000000001\u001b[0;0m does not match the requirement\u001b[0;90m - #7400=IfcDoor('2T1wqivHnBkwBL1I2GMTkx',#18,'M_Single-Flush:0915 x 2134mm:377662',$,'M_Single-Flush:0915 x 2134mm',#23890,#7396,'377662',2134.,915.00000000000011)\n",
      "\u001b[0;0m            \u001b[0;0mThe attribute value \u001b[0;95m914.9999999999999\u001b[0;0m does not match the requirement\u001b[0;90m - #7484=IfcDoor('0unmp_RnH2xRyaySWnFp7b',#18,'M_Single-Flush:0915 x 2134mm:378185',$,'M_Single-Flush:0915 x 2134mm',#23770,#7480,'378185',2134.,914.99999999999989)\n",
      "\u001b[0;0m            \u001b[0;0mThe attribute value \u001b[0;95m914.9999999999999\u001b[0;0m does not match the requirement\u001b[0;90m - #7512=IfcDoor('0unmp_RnH2xRyaySWnFp4l',#18,'M_Single-Flush:0915 x 2134mm:378243',$,'M_Single-Flush:0915 x 2134mm',#23790,#7508,'378243',2134.,914.99999999999989)\n",
      "\u001b[0;0m            \u001b[0;0mThe attribute value \u001b[0;95m915.0000000000003\u001b[0;0m does not match the requirement\u001b[0;90m - #7540=IfcDoor('0unmp_RnH2xRyaySWnFp5z',#18,'M_Single-Flush:0915 x 2134mm:378321',$,'M_Single-Flush:0915 x 2134mm',#23730,#7536,'378321',2134.,915.00000000000034)\n",
      "\u001b[0;0m            \u001b[0;0mThe attribute value \u001b[0;95m915.0000000000001\u001b[0;0m does not match the requirement\u001b[0;90m - #7568=IfcDoor('0unmp_RnH2xRyaySWnFpAD',#18,'M_Single-Flush:0915 x 2134mm:378401',$,'M_Single-Flush:0915 x 2134mm',#23810,#7564,'378401',2134.,915.00000000000011)\n",
      "\u001b[0;0m            \u001b[0;0mThe attribute value \u001b[0;95m914.9999999999999\u001b[0;0m does not match the requirement\u001b[0;90m - #13313=IfcDoor('2wcvH1AOD8fgqG2PBvpM7U',#18,'M_Single-Flush:0915 x 2032mm:398822',$,'M_Single-Flush:0915 x 2032mm',#24416,#13309,'398822',2031.9999999999993,914.99999999999989)\n",
      "\u001b[0;0m            \u001b[0;0mThe attribute value \u001b[0;95m914.9999999999999\u001b[0;0m does not match the requirement\u001b[0;90m - #13367=IfcDoor('2wcvH1AOD8fgqG2PBvpM85',#18,'M_Single-Flush:0915 x 2032mm:398909',$,'M_Single-Flush:0915 x 2032mm',#24436,#13363,'398909',2031.9999999999993,914.99999999999989)\n",
      "\u001b[0;0m            ... 17 in total ...\n",
      "\u001b[0;0m\u001b[0;0m"
     ]
    }
   ],
   "source": [
    "# load IDS\n",
    "# my_ids = ids.open(\"VTV_Accessibility_usbim.ids\")\n",
    "\n",
    "# open  IFC file\n",
    "my_ifc = ifcopenshell.open(\"../datasets/heartbreak_hotel.ifc\")\n",
    "\n",
    "# validate IFC model against IDS requirements:\n",
    "my_ids.validate(my_ifc)\n",
    "\n",
    "# show results:\n",
    "reporter.Console(my_ids).report()"
   ]
  },
  {
   "cell_type": "code",
   "execution_count": 8,
   "metadata": {},
   "outputs": [
    {
     "data": {
      "text/plain": [
       "23718"
      ]
     },
     "execution_count": 8,
     "metadata": {},
     "output_type": "execute_result"
    }
   ],
   "source": [
    "# show results in HTML\n",
    "reporter_obj = reporter.Html(my_ids)\n",
    "reporter_obj.report()\n",
    "reporter_obj.to_file(\"report.html\")"
   ]
  }
 ],
 "metadata": {
  "kernelspec": {
   "display_name": "venv",
   "language": "python",
   "name": "python3"
  },
  "language_info": {
   "codemirror_mode": {
    "name": "ipython",
    "version": 3
   },
   "file_extension": ".py",
   "mimetype": "text/x-python",
   "name": "python",
   "nbconvert_exporter": "python",
   "pygments_lexer": "ipython3",
   "version": "3.12.7"
  }
 },
 "nbformat": 4,
 "nbformat_minor": 2
}
